{
 "cells": [
  {
   "cell_type": "code",
   "execution_count": 1,
   "metadata": {},
   "outputs": [
    {
     "name": "stdout",
     "output_type": "stream",
     "text": [
      "/tmp\n"
     ]
    }
   ],
   "source": [
    "%matplotlib inline\n",
    "\n",
    "import os\n",
    "import time\n",
    "\n",
    "%cd /tmp\n",
    "# %cd /mnt/sdb/home/tf/tensorflow/\n",
    "HOME = os.getcwd()\n",
    "MODEL = \"efficientdet-d2\"\n",
    "os.environ['PYTHONPATH'] = os.path.join(HOME, \"tpu\")\n",
    "os.environ['MODEL'] = MODEL\n",
    "os.environ['CUDA_VISIBLE_DEVICES'] = \"\""
   ]
  },
  {
   "cell_type": "code",
   "execution_count": 2,
   "metadata": {},
   "outputs": [
    {
     "name": "stdout",
     "output_type": "stream",
     "text": [
      "/tmp\n",
      "Cloning into 'automl'...\n",
      "remote: Enumerating objects: 3265, done.\u001b[K\n",
      "remote: Total 3265 (delta 0), reused 0 (delta 0), pack-reused 3265\u001b[K\n",
      "Receiving objects: 100% (3265/3265), 7.97 MiB | 7.01 MiB/s, done.\n",
      "Resolving deltas: 100% (2460/2460), done.\n"
     ]
    }
   ],
   "source": [
    "# download the code. At the time of this writing the last\n",
    "# commit is 57621e8f3eaddd2c0b421c65c0bbd323ebcf8f2d.\n",
    "%cd {HOME}\n",
    "!git clone https://github.com/google/automl"
   ]
  },
  {
   "cell_type": "code",
   "execution_count": 3,
   "metadata": {},
   "outputs": [
    {
     "name": "stdout",
     "output_type": "stream",
     "text": [
      "/tmp/automl/efficientdet\n"
     ]
    }
   ],
   "source": [
    "%cd {HOME}/automl/efficientdet"
   ]
  },
  {
   "cell_type": "code",
   "execution_count": 4,
   "metadata": {},
   "outputs": [],
   "source": [
    "!wget -q https://storage.googleapis.com/cloud-tpu-checkpoints/efficientdet/coco/{MODEL}.tar.gz\n",
    "!tar -C /tmp -zxf {MODEL}.tar.gz"
   ]
  },
  {
   "cell_type": "code",
   "execution_count": 7,
   "metadata": {},
   "outputs": [],
   "source": [
    "import tensorflow as tf\n",
    "import inference\n",
    "from inference import *\n",
    "import PIL\n",
    "import numpy as np\n",
    "from PIL import Image, ImageDraw, ImageColor\n",
    "import math\n",
    "import matplotlib.pyplot as plt"
   ]
  },
  {
   "cell_type": "code",
   "execution_count": 16,
   "metadata": {},
   "outputs": [
    {
     "ename": "AttributeError",
     "evalue": "'Driver' object has no attribute 'disable_pyfun'",
     "output_type": "error",
     "traceback": [
      "\u001b[0;31m---------------------------------------------------------------------------\u001b[0m",
      "\u001b[0;31mAttributeError\u001b[0m                            Traceback (most recent call last)",
      "\u001b[0;32m<ipython-input-16-af0858df62fb>\u001b[0m in \u001b[0;36m<module>\u001b[0;34m\u001b[0m\n\u001b[1;32m     42\u001b[0m \u001b[0;34m\u001b[0m\u001b[0m\n\u001b[1;32m     43\u001b[0m \u001b[0mdriver\u001b[0m \u001b[0;34m=\u001b[0m \u001b[0mDriver\u001b[0m\u001b[0;34m(\u001b[0m\u001b[0mMODEL\u001b[0m\u001b[0;34m,\u001b[0m \u001b[0mos\u001b[0m\u001b[0;34m.\u001b[0m\u001b[0mpath\u001b[0m\u001b[0;34m.\u001b[0m\u001b[0mjoin\u001b[0m\u001b[0;34m(\u001b[0m\u001b[0;34m'/tmp'\u001b[0m\u001b[0;34m,\u001b[0m \u001b[0mMODEL\u001b[0m\u001b[0;34m)\u001b[0m\u001b[0;34m,\u001b[0m \u001b[0mbatch_size\u001b[0m\u001b[0;34m=\u001b[0m\u001b[0;36m1\u001b[0m\u001b[0;34m)\u001b[0m\u001b[0;34m\u001b[0m\u001b[0;34m\u001b[0m\u001b[0m\n\u001b[0;32m---> 44\u001b[0;31m \u001b[0mdriver\u001b[0m\u001b[0;34m.\u001b[0m\u001b[0mbuild\u001b[0m\u001b[0;34m(\u001b[0m\u001b[0;34m)\u001b[0m\u001b[0;34m\u001b[0m\u001b[0;34m\u001b[0m\u001b[0m\n\u001b[0m\u001b[1;32m     45\u001b[0m \u001b[0mdriver\u001b[0m\u001b[0;34m.\u001b[0m\u001b[0mexport\u001b[0m\u001b[0;34m(\u001b[0m\u001b[0moutput\u001b[0m\u001b[0;34m)\u001b[0m\u001b[0;34m\u001b[0m\u001b[0;34m\u001b[0m\u001b[0m\n",
      "\u001b[0;32m<ipython-input-16-af0858df62fb>\u001b[0m in \u001b[0;36mbuild\u001b[0;34m(self, params_override)\u001b[0m\n\u001b[1;32m     18\u001b[0m                 \u001b[0mimages\u001b[0m \u001b[0;34m=\u001b[0m \u001b[0mtf\u001b[0m\u001b[0;34m.\u001b[0m\u001b[0mtranspose\u001b[0m\u001b[0;34m(\u001b[0m\u001b[0mimages\u001b[0m\u001b[0;34m,\u001b[0m \u001b[0;34m[\u001b[0m\u001b[0;36m0\u001b[0m\u001b[0;34m,\u001b[0m \u001b[0;36m3\u001b[0m\u001b[0;34m,\u001b[0m \u001b[0;36m1\u001b[0m\u001b[0;34m,\u001b[0m \u001b[0;36m2\u001b[0m\u001b[0;34m]\u001b[0m\u001b[0;34m)\u001b[0m\u001b[0;34m\u001b[0m\u001b[0;34m\u001b[0m\u001b[0m\n\u001b[1;32m     19\u001b[0m             \u001b[0mclass_outputs\u001b[0m\u001b[0;34m,\u001b[0m \u001b[0mbox_outputs\u001b[0m \u001b[0;34m=\u001b[0m \u001b[0mbuild_model\u001b[0m\u001b[0;34m(\u001b[0m\u001b[0mself\u001b[0m\u001b[0;34m.\u001b[0m\u001b[0mmodel_name\u001b[0m\u001b[0;34m,\u001b[0m \u001b[0mimages\u001b[0m\u001b[0;34m,\u001b[0m \u001b[0;34m**\u001b[0m\u001b[0mparams\u001b[0m\u001b[0;34m)\u001b[0m\u001b[0;34m\u001b[0m\u001b[0;34m\u001b[0m\u001b[0m\n\u001b[0;32m---> 20\u001b[0;31m             \u001b[0mparams\u001b[0m\u001b[0;34m.\u001b[0m\u001b[0mupdate\u001b[0m\u001b[0;34m(\u001b[0m\u001b[0mdict\u001b[0m\u001b[0;34m(\u001b[0m\u001b[0mbatch_size\u001b[0m\u001b[0;34m=\u001b[0m\u001b[0mself\u001b[0m\u001b[0;34m.\u001b[0m\u001b[0mbatch_size\u001b[0m\u001b[0;34m,\u001b[0m\u001b[0mpyfun\u001b[0m\u001b[0;34m=\u001b[0m\u001b[0mself\u001b[0m\u001b[0;34m.\u001b[0m\u001b[0mdisable_pyfun\u001b[0m\u001b[0;34m)\u001b[0m\u001b[0;34m)\u001b[0m\u001b[0;34m\u001b[0m\u001b[0;34m\u001b[0m\u001b[0m\n\u001b[0m\u001b[1;32m     21\u001b[0m             detections = det_post_process(params, class_outputs, box_outputs, scales,\n\u001b[1;32m     22\u001b[0m                                           \u001b[0mself\u001b[0m\u001b[0;34m.\u001b[0m\u001b[0mmin_score_thresh\u001b[0m\u001b[0;34m,\u001b[0m\u001b[0;34m\u001b[0m\u001b[0;34m\u001b[0m\u001b[0m\n",
      "\u001b[0;31mAttributeError\u001b[0m: 'Driver' object has no attribute 'disable_pyfun'"
     ]
    }
   ],
   "source": [
    "class Driver(ServingDriver):\n",
    "    def __init__(self, model_name, ckpt_path,\n",
    "                 batch_size=1, num_classes=None, label_id_mapping=None):\n",
    "        super(Driver, self).__init__(model_name, ckpt_path, batch_size, num_classes, label_id_mapping)\n",
    "\n",
    "    def build(self, params_override=None):\n",
    "        \"\"\"Build model and restore checkpoints.\"\"\"\n",
    "        params = copy.deepcopy(self.params)\n",
    "        if params_override:\n",
    "            params.update(params_override)\n",
    "        if not self.sess:\n",
    "            self.sess = self._build_session()\n",
    "            \n",
    "        with self.sess.graph.as_default():\n",
    "            raw_images = tf.placeholder(tf.uint8, name='image_arrays', shape=[None, None, None, 3])\n",
    "            images, scales = batch_image_preprocess(raw_images, params['image_size'], self.batch_size)\n",
    "            if params['data_format'] == 'channels_first':\n",
    "                images = tf.transpose(images, [0, 3, 1, 2])\n",
    "            class_outputs, box_outputs = build_model(self.model_name, images, **params)\n",
    "            params.update(dict(batch_size=self.batch_size,pyfun=self.disable_pyfun))\n",
    "            detections = det_post_process(params, class_outputs, box_outputs, scales,\n",
    "                                          self.min_score_thresh,\n",
    "                                          self.max_boxes_to_draw)\n",
    "            restore_ckpt(\n",
    "                self.sess,\n",
    "                self.ckpt_path,\n",
    "                ema_decay=self.params['moving_average_decay'],\n",
    "                export_ckpt=None)\n",
    "\n",
    "        self.signitures = {\n",
    "            'image_arrays': raw_images,\n",
    "            'prediction': detections,\n",
    "        }\n",
    "        return self.signitures\n",
    "\n",
    "\n",
    "tf.disable_eager_execution()\n",
    "tf.reset_default_graph()\n",
    "output = os.path.join('.', MODEL)\n",
    "if tf.io.gfile.exists(output):\n",
    "    tf.io.gfile.rmtree(output)\n",
    "\n",
    "driver = Driver(MODEL, os.path.join('/tmp', MODEL), batch_size=1)\n",
    "driver.build()\n",
    "driver.export(output)"
   ]
  },
  {
   "cell_type": "code",
   "execution_count": null,
   "metadata": {},
   "outputs": [],
   "source": []
  }
 ],
 "metadata": {
  "kernelspec": {
   "display_name": "Python 3",
   "language": "python",
   "name": "python3"
  },
  "language_info": {
   "codemirror_mode": {
    "name": "ipython",
    "version": 3
   },
   "file_extension": ".py",
   "mimetype": "text/x-python",
   "name": "python",
   "nbconvert_exporter": "python",
   "pygments_lexer": "ipython3",
   "version": "3.6.9"
  }
 },
 "nbformat": 4,
 "nbformat_minor": 4
}
